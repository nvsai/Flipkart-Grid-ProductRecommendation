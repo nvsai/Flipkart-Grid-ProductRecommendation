{
  "nbformat": 4,
  "nbformat_minor": 0,
  "metadata": {
    "colab": {
      "provenance": []
    },
    "kernelspec": {
      "name": "python3",
      "display_name": "Python 3"
    },
    "language_info": {
      "name": "python"
    }
  },
  "cells": [
    {
      "cell_type": "code",
      "source": [
        "import random\n",
        "\n",
        "# Create a list of products\n",
        "products = [\"Woolen coat\", \"Down jacket\", \"T-shirt\", \"Jeans\", \"Laptop\", \"Smartphone\"]\n",
        "\n",
        "# Create a list of locations\n",
        "locations = [\"Kashmir\", \"Hyderabad\", \"Bangalore\"]\n",
        "\n",
        "# Generate data\n",
        "data = []\n",
        "for i in range(100):\n",
        "    user_location = random.choice(locations)\n",
        "    product = random.choice(products)\n",
        "    data.append({\n",
        "        \"user_location\": user_location,\n",
        "        \"product_id\": i,\n",
        "        \"product_description\": product\n",
        "    })\n",
        "\n",
        "# Write the data to a CSV file\n",
        "with open(\"data.csv\", \"w\") as f:\n",
        "    f.write(\"user_location,product_id,product_description\\n\")\n",
        "    for row in data:\n",
        "        f.write(f\"{row['user_location']},{row['product_id']},{row['product_description']}\\n\")"
      ],
      "metadata": {
        "id": "dTtNkP88EH81"
      },
      "execution_count": 1,
      "outputs": []
    },
    {
      "cell_type": "code",
      "execution_count": 10,
      "metadata": {
        "colab": {
          "base_uri": "https://localhost:8080/"
        },
        "id": "EuZUQ9rvDDDX",
        "outputId": "309a2ffb-0f43-4421-99ee-8daadf37a157"
      },
      "outputs": [
        {
          "output_type": "stream",
          "name": "stdout",
          "text": [
            "[30, 15, 37, 3, 0, 24, 14, 10, 7, 5, 21, 0, 24, 14, 3, 3, 19, 17, 16, 22, 10, 7, 5, 21, 9, 6, 4, 31, 3, 0, 24, 14, 0, 24, 14, 9, 6, 4, 31, 30, 15, 37, 3, 3, 9, 6, 4, 31, 3, 9, 6, 4, 31, 10, 7, 5, 21, 9, 6, 4, 31, 3, 0, 24, 14, 9, 6, 4, 31, 19, 17, 16, 22, 9, 6, 4, 31, 30, 15, 37, 30, 15, 37, 9, 6, 4, 31, 30, 15, 37, 30, 15, 37, 19, 17, 16, 22, 10, 7, 5, 21, 0, 24, 14, 19, 17, 16, 22, 3]\n"
          ]
        }
      ],
      "source": [
        "import pandas as pd\n",
        "from sklearn.neighbors import NearestNeighbors\n",
        "from sklearn.feature_extraction.text import TfidfVectorizer\n",
        "\n",
        "# Load the data\n",
        "data = pd.read_csv(\"data.csv\")\n",
        "\n",
        "# Create a feature vector for each product\n",
        "product_features = TfidfVectorizer(stop_words=\"english\").fit_transform(data[\"product_description\"])\n",
        "\n",
        "# Create a nearest neighbors model\n",
        "model = NearestNeighbors(n_neighbors=5)\n",
        "model.fit(product_features)\n",
        "\n",
        "# Get the location of the current user\n",
        "user_location = \"Bangalore\"\n",
        "\n",
        "# Find similar users in the same location\n",
        "user_indices = data[data[\"user_location\"] == user_location].index\n",
        "similar_users = model.kneighbors(product_features[user_indices], n_neighbors=5)\n",
        "\n",
        "# Get the indices of the products that the similar users bought\n",
        "similar_user_product_indices = []\n",
        "for indices in similar_users[1]:\n",
        "    similar_user_product_indices.extend(indices)\n",
        "\n",
        "# Recommend products to the current user based on content-based filtering\n",
        "content_based_recommendations = []\n",
        "for index in similar_user_product_indices:\n",
        "    product_id = data[\"product_id\"].iloc[index]\n",
        "    if product_id not in data.loc[user_indices, \"product_id\"]:\n",
        "        content_based_recommendations.append(product_id)\n",
        "\n",
        "# Print the recommended products\n",
        "print(content_based_recommendations)\n"
      ]
    },
    {
      "cell_type": "markdown",
      "source": [
        "UserRecommendation by location takes a location and then get similar users to the current userin the location ,then recommends products necessary in the location.\n",
        "THis code uses User-based collaborative filtering approach with content-based filtering technique."
      ],
      "metadata": {
        "id": "I7XMuL79Hrj6"
      }
    },
    {
      "cell_type": "markdown",
      "source": [
        "This code first loads the data, creates a feature vector for each product, and creates a user-item matrix. Then, it creates a nearest neighbors model and finds similar users in the same location as the current user. Finally, it gets the products that the similar users bought and recommends products to the current user based on content-based filtering.\n",
        "\n",
        "The following are some of the key steps in this code:\n",
        "\n",
        "Creating a feature vector for each product: This is done using the TF-IDF vectorizer, which calculates the term frequency-inverse document frequency for each word in the product description.\n",
        "Creating a user-item matrix: This is a matrix that shows which products have been bought by which users.\n",
        "Creating a nearest neighbors model: This model is used to find similar users based on their product purchase history.\n",
        "Finding similar users in the same location: This is done by finding the users in the user-item matrix who have the same location as the current user.\n",
        "Getting the products that the similar users bought: This is done by taking the product IDs from the rows of the user-item matrix that correspond to the similar users.\n",
        "Recommending products to the current user based on content-based filtering: This is done by taking the product IDs from the list of recommended products that were not purchased by the current user.\n"
      ],
      "metadata": {
        "id": "umfq7TyLHite"
      }
    }
  ]
}