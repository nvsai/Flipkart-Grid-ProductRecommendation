{
  "nbformat": 4,
  "nbformat_minor": 0,
  "metadata": {
    "colab": {
      "provenance": []
    },
    "kernelspec": {
      "name": "python3",
      "display_name": "Python 3"
    },
    "language_info": {
      "name": "python"
    }
  },
  "cells": [
    {
      "cell_type": "code",
      "source": [
        "import pandas as pd\n",
        "import numpy as np\n",
        "\n",
        "# Load the movie ratings data\n",
        "movie_ratings_df = pd.read_csv(\"movie_ratings.csv\")\n"
      ],
      "metadata": {
        "id": "ObRDCKNV5cdB"
      },
      "execution_count": 1,
      "outputs": []
    },
    {
      "cell_type": "code",
      "source": [
        "# Create a user-item rating matrix\n",
        "user_item_rating_matrix = movie_ratings_df.pivot_table(\n",
        "    index=\"user_id\", columns=\"movie_id\", values=\"rating\"\n",
        ")"
      ],
      "metadata": {
        "id": "dEPl-7frOBZc"
      },
      "execution_count": 2,
      "outputs": []
    },
    {
      "cell_type": "code",
      "source": [
        "# Calculate the user similarities\n",
        "user_similarities = user_item_rating_matrix.corr(method=\"pearson\")"
      ],
      "metadata": {
        "id": "pNoOPr0gOGKR"
      },
      "execution_count": 3,
      "outputs": []
    },
    {
      "cell_type": "code",
      "source": [
        "# Set a threshold for similarity\n",
        "user_similarity_threshold = 0.3"
      ],
      "metadata": {
        "id": "UvuobMaO2Zul"
      },
      "execution_count": 4,
      "outputs": []
    },
    {
      "cell_type": "code",
      "source": [
        "# Exclude the user from the similarity matrix\n",
        "for user_id in user_similarities.index:\n",
        "    user_similarities.loc[user_id, user_id] = np.NAN\n"
      ],
      "metadata": {
        "id": "hS1Rp9IHa3kh"
      },
      "execution_count": 5,
      "outputs": []
    },
    {
      "cell_type": "code",
      "source": [
        "# Get the top 10 most similar users for each user\n",
        "top_10_similar_users = {}\n",
        "for user_id in user_similarities.index:\n",
        "    top_10_similar_users[user_id] = user_similarities[user_id].sort_values(\n",
        "        ascending=False\n",
        "    )[:3]"
      ],
      "metadata": {
        "id": "WFRdVR7GOOzW"
      },
      "execution_count": 6,
      "outputs": []
    },
    {
      "cell_type": "code",
      "source": [
        "# Recommend merchandise products to each user\n",
        "for user_id in user_similarities.index:\n",
        "    # Get the top 10 most similar users\n",
        "    similar_users = top_10_similar_users[user_id]\n",
        "\n",
        "    # Get the merchandise products that the similar users have rated\n",
        "    merchandise_products = movie_ratings_df[\n",
        "        movie_ratings_df[\"user_id\"].isin(similar_users.index)\n",
        "    ]\n",
        "\n",
        "    # Calculate the weighted average of the merchandise product ratings\n",
        "    merchandise_product_ratings = merchandise_products.groupby(\n",
        "        \"movie_id\"\n",
        "    )[\"rating\"].mean()\n",
        "\n",
        "    # Sort the merchandise products by the weighted average rating\n",
        "    recommended_merchandise_products = merchandise_product_ratings.sort_values(\n",
        "        ascending=False\n",
        "    )\n",
        "\n",
        "    # Print the top 5 recommended merchandise products\n",
        "    print(\"Recommended merchandise products for user ID {}\".format(user_id))\n",
        "    for movie_id, rating in recommended_merchandise_products.items():\n",
        "        print(\"- {}\".format(movie_id))"
      ],
      "metadata": {
        "colab": {
          "base_uri": "https://localhost:8080/"
        },
        "id": "ZaD-OM6lOSCo",
        "outputId": "fc5e3304-0eb0-47b6-aee4-d05ec8a1a219"
      },
      "execution_count": 7,
      "outputs": [
        {
          "output_type": "stream",
          "name": "stdout",
          "text": [
            "Recommended merchandise products for user ID 1\n",
            "- 2\n",
            "- 3\n",
            "- 1\n",
            "- 4\n",
            "- 5\n",
            "Recommended merchandise products for user ID 2\n",
            "- 3\n",
            "- 2\n",
            "- 1\n",
            "- 4\n",
            "- 5\n",
            "Recommended merchandise products for user ID 3\n",
            "- 2\n",
            "- 1\n",
            "- 3\n",
            "- 4\n",
            "- 5\n",
            "Recommended merchandise products for user ID 4\n",
            "- 2\n",
            "- 3\n",
            "- 1\n",
            "- 4\n",
            "- 5\n",
            "Recommended merchandise products for user ID 5\n",
            "- 3\n",
            "- 2\n",
            "- 1\n",
            "- 4\n",
            "- 5\n"
          ]
        }
      ]
    }
  ]
}