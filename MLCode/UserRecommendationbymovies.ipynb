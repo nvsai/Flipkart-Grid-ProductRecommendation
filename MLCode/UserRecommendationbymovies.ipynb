{
  "nbformat": 4,
  "nbformat_minor": 0,
  "metadata": {
    "colab": {
      "provenance": []
    },
    "kernelspec": {
      "name": "python3",
      "display_name": "Python 3"
    },
    "language_info": {
      "name": "python"
    }
  },
  "cells": [
    {
      "cell_type": "code",
      "source": [
        "import pandas as pd\n",
        "import numpy as np\n",
        "\n",
        "# Load the movie ratings data\n",
        "movie_ratings_df = pd.read_csv(\"movie_ratings.csv\")\n"
      ],
      "metadata": {
        "id": "ObRDCKNV5cdB"
      },
      "execution_count": 2,
      "outputs": []
    },
    {
      "cell_type": "code",
      "source": [
        "# Create a user-item rating matrix\n",
        "user_item_rating_matrix = movie_ratings_df.pivot_table(\n",
        "    index=\"user_id\", columns=\"movie_id\", values=\"rating\"\n",
        ")"
      ],
      "metadata": {
        "id": "dEPl-7frOBZc"
      },
      "execution_count": 3,
      "outputs": []
    },
    {
      "cell_type": "code",
      "source": [
        "# Calculate the user similarities\n",
        "user_similarities = user_item_rating_matrix.corr(method=\"pearson\")"
      ],
      "metadata": {
        "id": "pNoOPr0gOGKR"
      },
      "execution_count": 4,
      "outputs": []
    },
    {
      "cell_type": "code",
      "source": [
        "# Set a threshold for similarity\n",
        "user_similarity_threshold = 0.3"
      ],
      "metadata": {
        "id": "UvuobMaO2Zul"
      },
      "execution_count": 5,
      "outputs": []
    },
    {
      "cell_type": "code",
      "source": [
        "# Exclude the user from the similarity matrix\n",
        "for user_id in user_similarities.index:\n",
        "    user_similarities.loc[user_id, user_id] = np.NAN\n"
      ],
      "metadata": {
        "id": "hS1Rp9IHa3kh"
      },
      "execution_count": 6,
      "outputs": []
    },
    {
      "cell_type": "code",
      "source": [
        "# Get the top 10 most similar users for each user\n",
        "top_3_similar_users = {}\n",
        "for user_id in user_similarities.index:\n",
        "    top_3_similar_users[user_id] = user_similarities[user_id].sort_values(\n",
        "        ascending=False\n",
        "    )[:3]"
      ],
      "metadata": {
        "id": "WFRdVR7GOOzW"
      },
      "execution_count": 7,
      "outputs": []
    },
    {
      "cell_type": "code",
      "source": [
        "# Recommend merchandise products to each user\n",
        "for user_id in user_similarities.index:\n",
        "    # Get the top 3 most similar users\n",
        "    similar_users = top_3_similar_users[user_id]\n",
        "\n",
        "    # Get the merchandise products that the similar users have rated\n",
        "    merchandise_products = movie_ratings_df[\n",
        "        movie_ratings_df[\"user_id\"].isin(similar_users.index)\n",
        "    ]\n",
        "\n",
        "    # Calculate the weighted average of the merchandise product ratings\n",
        "    merchandise_product_ratings = merchandise_products.groupby(\n",
        "        \"movie_id\"\n",
        "    )[\"rating\"].mean()\n",
        "\n",
        "    # Sort the merchandise products by the weighted average rating\n",
        "    recommended_merchandise_products = merchandise_product_ratings.sort_values(\n",
        "        ascending=False\n",
        "    )\n",
        "\n",
        "    # Print the top 5 recommended merchandise products\n",
        "    print(\"Recommended merchandise products for user ID {}\".format(user_id))\n",
        "    for movie_id, rating in recommended_merchandise_products.items():\n",
        "        print(\"- {}\".format(movie_id))"
      ],
      "metadata": {
        "colab": {
          "base_uri": "https://localhost:8080/"
        },
        "id": "ZaD-OM6lOSCo",
        "outputId": "086089eb-a8c9-4d37-e2c0-083fdd47628a"
      },
      "execution_count": 8,
      "outputs": [
        {
          "output_type": "stream",
          "name": "stdout",
          "text": [
            "Recommended merchandise products for user ID 1\n",
            "- 2\n",
            "- 3\n",
            "- 1\n",
            "- 4\n",
            "- 5\n",
            "Recommended merchandise products for user ID 2\n",
            "- 3\n",
            "- 2\n",
            "- 1\n",
            "- 4\n",
            "- 5\n",
            "Recommended merchandise products for user ID 3\n",
            "- 2\n",
            "- 1\n",
            "- 3\n",
            "- 4\n",
            "- 5\n",
            "Recommended merchandise products for user ID 4\n",
            "- 2\n",
            "- 3\n",
            "- 1\n",
            "- 4\n",
            "- 5\n",
            "Recommended merchandise products for user ID 5\n",
            "- 3\n",
            "- 2\n",
            "- 1\n",
            "- 4\n",
            "- 5\n"
          ]
        }
      ]
    },
    {
      "cell_type": "markdown",
      "source": [
        "In UserRecommendationbyMovies we used cosine similarity between different users and their ratings for movies in categories like Barbie,Disney,Marvel,DC,TRansformers.\n",
        "This a User-Based Collborative filtering technique for product merchendise recommendation based on movie ratings of similar users."
      ],
      "metadata": {
        "id": "Giithl-U5z1t"
      }
    },
    {
      "cell_type": "markdown",
      "source": [
        "This code first loads the movie ratings data into a Pandas DataFrame. Then, it creates a user-item rating matrix, which is a matrix that contains the ratings that each user has given to each movie. Next, it calculates the user similarities using the Pearson correlation coefficient. The Pearson correlation coefficient is a measure of how similar two variables are. A value of 1 indicates that the two variables are perfectly correlated, a value of 0 indicates that there is no correlation, and a value of -1 indicates that the two variables are perfectly inversely correlated. In this case, we are using the Pearson correlation coefficient to measure the similarity between users' movie ratings.\n",
        "\n",
        "After calculating the user similarities, the code sets a threshold for similarity. This threshold is used to exclude users that are not similar enough to the target user. In this case, we are setting the threshold to 0.3, which means that a user must have a Pearson correlation coefficient of at least 0.3 to be considered as a similar user.\n",
        "\n",
        "The code then gets the top 3 most similar users for each user. This is done by sorting the user similarities in descending order and taking the top 3 users.\n",
        "\n",
        "Finally, the code recommends merchandise products to each user. It does this by getting the merchandise products that the similar users have rated and then calculating the weighted average of the merchandise product ratings. The weighted average rating is calculated by giving more weight to the ratings of the more similar users. The code then sorts the merchandise products by the weighted average rating and prints the top 5 recommended merchandise products."
      ],
      "metadata": {
        "id": "u2Vncxlhl24s"
      }
    }
  ]
}