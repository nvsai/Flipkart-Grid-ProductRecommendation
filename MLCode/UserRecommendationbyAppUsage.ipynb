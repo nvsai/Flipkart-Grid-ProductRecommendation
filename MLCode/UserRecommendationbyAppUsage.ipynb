{
  "nbformat": 4,
  "nbformat_minor": 0,
  "metadata": {
    "colab": {
      "provenance": []
    },
    "kernelspec": {
      "name": "python3",
      "display_name": "Python 3"
    },
    "language_info": {
      "name": "python"
    }
  },
  "cells": [
    {
      "cell_type": "code",
      "execution_count": null,
      "metadata": {
        "id": "FPcJQNo4PVgp",
        "colab": {
          "base_uri": "https://localhost:8080/"
        },
        "outputId": "2159f355-7d75-4a7b-ad55-7671fb181868"
      },
      "outputs": [
        {
          "output_type": "stream",
          "name": "stdout",
          "text": [
            "Recommendations for User1: ['GamingMouse', 'GamingKeyboard', 'display']\n",
            "Recommendations for User2: ['Perfume', 'display', 'GamingMouse']\n"
          ]
        }
      ],
      "source": [
        "import numpy as np\n",
        "from sklearn.metrics.pairwise import cosine_similarity\n",
        "\n",
        "# Sample user app time data (hours spent on each app)\n",
        "users = {\n",
        "    \"User1\": [5, 2, 0, 0, 1],  # [Gaming, JobSearch, Social, Shopping, Entertainment]\n",
        "    \"User2\": [1, 0, 4, 2, 3],\n",
        "    # ... Add more users\n",
        "}\n",
        "\n",
        "# Sample product categories and their corresponding features\n",
        "products = {\n",
        "    \"GamingKeyboard\": [1, 0, 0, 0, 0],  # [Gaming, JobSearch, Social, Shopping, Entertainment]\n",
        "    \"FormalTie\": [0, 1, 0, 0, 0],\n",
        "    \"GamingMouse\": [1, 0, 0, 0, 0],\n",
        "    \"FormalShirt\": [0, 1, 0, 0, 0],\n",
        "    \"Perfume\": [0,0,1,0,0],\n",
        "    \"display\": [1,0,0,0,1]\n",
        "    # ... Add more products\n",
        "}\n",
        "\n",
        "# Convert user and product data into numpy arrays\n",
        "user_matrix = np.array([users[user] for user in users])\n",
        "product_matrix = np.array([products[product] for product in products])\n",
        "\n",
        "# Compute cosine similarity between user preferences and product features\n",
        "similarities = cosine_similarity(user_matrix, product_matrix)\n",
        "\n",
        "# Recommend products for each user based on highest similarity\n",
        "num_recommendations = 3\n",
        "for i, user in enumerate(users):\n",
        "    similar_products_indices = np.argsort(similarities[i])[::-1][:num_recommendations]\n",
        "    recommended_products = [list(products.keys())[idx] for idx in similar_products_indices]\n",
        "\n",
        "    print(f\"Recommendations for {user}: {recommended_products}\")\n"
      ]
    },
    {
      "cell_type": "markdown",
      "source": [
        "In UserRecommendationbyAppUsage we used cosine similarity between users and products to find relevent products for different users.\n",
        "This a Item-Based Collborative filtering technique for product recommendation based on Mobile apps usage.\n",
        "\n",
        "we have 5 categories in the code namely Gaming, JobSearch, Social, Shopping, Entertainment for users and products.we can collect more products and map them with categories and then collect more user app usage data to implement a high end recommendation system."
      ],
      "metadata": {
        "id": "GBFOSgK4fJH9"
      }
    },
    {
      "cell_type": "markdown",
      "source": [
        "This code first creates a KNN classifier. Then, it creates a feature vector for each user, which is a list of their app usage times. The KNN classifier is then trained on these feature vectors. Finally, the most similar users to the given user are found by using the KNN classifier to predict the labels of the feature vectors.\n",
        "\n",
        "The find_similar_users() function can be used to find the most similar users to any user, given their app usage time data. The user_app_time_data dictionary can be any dictionary where the keys are user IDs and the values are lists of app usage times. The n_neighbors parameter of the KNN classifier controls how many neighbors are used to find the most similar users. A larger n_neighbors value will result in more similar users being found."
      ],
      "metadata": {
        "id": "DhOtbBs2ghci"
      }
    },
    {
      "cell_type": "code",
      "source": [],
      "metadata": {
        "id": "8SihBbOQffIQ"
      },
      "execution_count": null,
      "outputs": []
    }
  ]
}